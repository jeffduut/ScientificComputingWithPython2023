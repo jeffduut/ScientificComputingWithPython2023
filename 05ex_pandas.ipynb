{
 "cells": [
  {
   "cell_type": "markdown",
   "metadata": {},
   "source": [
    "1\\. **Pandas DataFrame**\n",
    "\n",
    "This exercise consists in analyzing a dataset containg timing information from a series of Time-to-Digital-Converters (TDC) implemented in a pair of FPGAs. Each measurement (i.e. each row of the input file) consists of a flag that specifies the type of message ('HEAD', which in this case is always 1), two addresses of the TDC providing the signal ('FPGA' and 'TDC_CHANNEL'), and the timing information ('ORBIT_CNT', 'BX_COUNTER', and 'TDC_MEAS'). Each TDC count corresponds to 25/30 ns, whereas a unit of BX_COUNTER corresponds to 25 ns, and the ORBIT_CNT is increased every `x` BX_COUNTER. This allows to store the time in a similar way to hours, minutes and seconds."
   ]
  },
  {
   "cell_type": "code",
   "execution_count": 1,
   "metadata": {},
   "outputs": [],
   "source": [
    "# If haven't downloaded it yet, please get the data file with wget\n",
    "#!wget https://www.dropbox.com/s/xvjzaxzz3ysphme/data_000637.txt -P ./data/"
   ]
  },
  {
   "cell_type": "markdown",
   "metadata": {},
   "source": [
    "1\\. Create a Pandas DataFrame reading N rows of the `data/data_000637.txt` dataset. Choose N to be smaller than or equal to the maximum number of rows and larger that 10k (check the documentation)."
   ]
  },
  {
   "cell_type": "code",
   "execution_count": 2,
   "metadata": {},
   "outputs": [
    {
     "data": {
      "text/html": [
       "<div>\n",
       "<style scoped>\n",
       "    .dataframe tbody tr th:only-of-type {\n",
       "        vertical-align: middle;\n",
       "    }\n",
       "\n",
       "    .dataframe tbody tr th {\n",
       "        vertical-align: top;\n",
       "    }\n",
       "\n",
       "    .dataframe thead th {\n",
       "        text-align: right;\n",
       "    }\n",
       "</style>\n",
       "<table border=\"1\" class=\"dataframe\">\n",
       "  <thead>\n",
       "    <tr style=\"text-align: right;\">\n",
       "      <th></th>\n",
       "      <th>HEAD</th>\n",
       "      <th>FPGA</th>\n",
       "      <th>TDC_CHANNEL</th>\n",
       "      <th>ORBIT_CNT</th>\n",
       "      <th>BX_COUNTER</th>\n",
       "      <th>TDC_MEAS</th>\n",
       "    </tr>\n",
       "  </thead>\n",
       "  <tbody>\n",
       "    <tr>\n",
       "      <th>0</th>\n",
       "      <td>1</td>\n",
       "      <td>0</td>\n",
       "      <td>123</td>\n",
       "      <td>3869200167</td>\n",
       "      <td>2374</td>\n",
       "      <td>26</td>\n",
       "    </tr>\n",
       "    <tr>\n",
       "      <th>1</th>\n",
       "      <td>1</td>\n",
       "      <td>0</td>\n",
       "      <td>124</td>\n",
       "      <td>3869200167</td>\n",
       "      <td>2374</td>\n",
       "      <td>27</td>\n",
       "    </tr>\n",
       "    <tr>\n",
       "      <th>2</th>\n",
       "      <td>1</td>\n",
       "      <td>0</td>\n",
       "      <td>63</td>\n",
       "      <td>3869200167</td>\n",
       "      <td>2553</td>\n",
       "      <td>28</td>\n",
       "    </tr>\n",
       "    <tr>\n",
       "      <th>3</th>\n",
       "      <td>1</td>\n",
       "      <td>0</td>\n",
       "      <td>64</td>\n",
       "      <td>3869200167</td>\n",
       "      <td>2558</td>\n",
       "      <td>19</td>\n",
       "    </tr>\n",
       "    <tr>\n",
       "      <th>4</th>\n",
       "      <td>1</td>\n",
       "      <td>0</td>\n",
       "      <td>64</td>\n",
       "      <td>3869200167</td>\n",
       "      <td>2760</td>\n",
       "      <td>25</td>\n",
       "    </tr>\n",
       "    <tr>\n",
       "      <th>...</th>\n",
       "      <td>...</td>\n",
       "      <td>...</td>\n",
       "      <td>...</td>\n",
       "      <td>...</td>\n",
       "      <td>...</td>\n",
       "      <td>...</td>\n",
       "    </tr>\n",
       "    <tr>\n",
       "      <th>99995</th>\n",
       "      <td>1</td>\n",
       "      <td>0</td>\n",
       "      <td>64</td>\n",
       "      <td>3869201161</td>\n",
       "      <td>2378</td>\n",
       "      <td>29</td>\n",
       "    </tr>\n",
       "    <tr>\n",
       "      <th>99996</th>\n",
       "      <td>1</td>\n",
       "      <td>0</td>\n",
       "      <td>70</td>\n",
       "      <td>3869201161</td>\n",
       "      <td>2472</td>\n",
       "      <td>26</td>\n",
       "    </tr>\n",
       "    <tr>\n",
       "      <th>99997</th>\n",
       "      <td>1</td>\n",
       "      <td>0</td>\n",
       "      <td>58</td>\n",
       "      <td>3869201161</td>\n",
       "      <td>2558</td>\n",
       "      <td>0</td>\n",
       "    </tr>\n",
       "    <tr>\n",
       "      <th>99998</th>\n",
       "      <td>1</td>\n",
       "      <td>0</td>\n",
       "      <td>57</td>\n",
       "      <td>3869201161</td>\n",
       "      <td>2561</td>\n",
       "      <td>23</td>\n",
       "    </tr>\n",
       "    <tr>\n",
       "      <th>99999</th>\n",
       "      <td>1</td>\n",
       "      <td>0</td>\n",
       "      <td>56</td>\n",
       "      <td>3869201161</td>\n",
       "      <td>2565</td>\n",
       "      <td>12</td>\n",
       "    </tr>\n",
       "  </tbody>\n",
       "</table>\n",
       "<p>100000 rows × 6 columns</p>\n",
       "</div>"
      ],
      "text/plain": [
       "       HEAD  FPGA  TDC_CHANNEL   ORBIT_CNT  BX_COUNTER  TDC_MEAS\n",
       "0         1     0          123  3869200167        2374        26\n",
       "1         1     0          124  3869200167        2374        27\n",
       "2         1     0           63  3869200167        2553        28\n",
       "3         1     0           64  3869200167        2558        19\n",
       "4         1     0           64  3869200167        2760        25\n",
       "...     ...   ...          ...         ...         ...       ...\n",
       "99995     1     0           64  3869201161        2378        29\n",
       "99996     1     0           70  3869201161        2472        26\n",
       "99997     1     0           58  3869201161        2558         0\n",
       "99998     1     0           57  3869201161        2561        23\n",
       "99999     1     0           56  3869201161        2565        12\n",
       "\n",
       "[100000 rows x 6 columns]"
      ]
     },
     "execution_count": 2,
     "metadata": {},
     "output_type": "execute_result"
    }
   ],
   "source": [
    "import pandas as pd\n",
    "\n",
    "N = 100000\n",
    "filepath = './data/data_000637.txt'\n",
    "\n",
    "df = pd.read_csv(filepath, sep=',', header=0, nrows=N)\n",
    "df"
   ]
  },
  {
   "cell_type": "markdown",
   "metadata": {},
   "source": [
    "2\\. Estimate the number of BX in a ORBIT (the value `x`).\n",
    "\n",
    "*Hint*: check when the BX counter reaches the maximum value before being reset to 0."
   ]
  },
  {
   "cell_type": "code",
   "execution_count": 3,
   "metadata": {},
   "outputs": [
    {
     "name": "stdout",
     "output_type": "stream",
     "text": [
      "Estimated value of x (number of BX in an ORBIT): 33\n"
     ]
    }
   ],
   "source": [
    "bx_rows = df[df['BX_COUNTER'] == 0]\n",
    "\n",
    "difference = bx_rows['ORBIT_CNT'].diff()\n",
    "\n",
    "x = difference.mean()\n",
    "\n",
    "print(f\"Estimated value of x (number of BX in an ORBIT): {int(x)}\")"
   ]
  },
  {
   "cell_type": "markdown",
   "metadata": {},
   "source": [
    "3\\. Create a new column with the absolute time in ns (as a combination of the other three columns with timing information) since the beginning of the data acquisition, and convert the new column to a Time Series.\n",
    "\n",
    "*Hint:* introduce an offset to the absolute time such that the start of the data acquisition (i.e. the first entry) is zero."
   ]
  },
  {
   "cell_type": "code",
   "execution_count": 7,
   "metadata": {},
   "outputs": [
    {
     "name": "stdout",
     "output_type": "stream",
     "text": [
      "       HEAD  FPGA  TDC_CHANNEL                 ABSOLUTE_TIME\n",
      "0         1     0          123 1970-01-01 00:00:00.000058352\n",
      "1         1     0          124 1970-01-01 00:00:00.000058353\n",
      "2         1     0           63 1970-01-01 00:00:00.000062829\n",
      "3         1     0           64 1970-01-01 00:00:00.000062947\n",
      "4         1     0           64 1970-01-01 00:00:00.000068002\n",
      "...     ...   ...          ...                           ...\n",
      "99995     1     0           64 1970-01-01 00:00:00.000883830\n",
      "99996     1     0           70 1970-01-01 00:00:00.000886177\n",
      "99997     1     0           58 1970-01-01 00:00:00.000888306\n",
      "99998     1     0           57 1970-01-01 00:00:00.000888400\n",
      "99999     1     0           56 1970-01-01 00:00:00.000888491\n",
      "\n",
      "[100000 rows x 4 columns]\n"
     ]
    }
   ],
   "source": [
    "df['ABSOLUTE_TIME'] = (\n",
    "    df['ORBIT_CNT'] * x * 25 +  \n",
    "    df['BX_COUNTER'] * 25 +  \n",
    "    df['TDC_MEAS'] * (25 / 30) \n",
    ")\n",
    "\n",
    "start_time_offset = df['ABSOLUTE_TIME'].min()\n",
    "df['ABSOLUTE_TIME'] -= start_time_offset\n",
    "\n",
    "df['ABSOLUTE_TIME'] = pd.to_datetime(df['ABSOLUTE_TIME'], unit='ns')\n",
    "print(df[['HEAD', 'FPGA', 'TDC_CHANNEL', 'ABSOLUTE_TIME']])"
   ]
  },
  {
   "cell_type": "markdown",
   "metadata": {},
   "source": [
    "4\\. Find out the duration of the data taking in hours, minutes and seconds, by using the features of the Time Series. Perform this check reading the whole dataset."
   ]
  },
  {
   "cell_type": "code",
   "execution_count": 13,
   "metadata": {},
   "outputs": [
    {
     "name": "stdout",
     "output_type": "stream",
     "text": [
      "1970-01-01 00:00:00.000912417\n",
      "1970-01-01 00:00:00\n",
      "0 days 00:00:00.000912417\n"
     ]
    }
   ],
   "source": [
    "# Calculate the duration of the data taking\n",
    "duration = df['ABSOLUTE_TIME'].max() - df['ABSOLUTE_TIME'].min()\n",
    "\n",
    "print(df['ABSOLUTE_TIME'].max())\n",
    "print(df['ABSOLUTE_TIME'].min())\n",
    "print(duration)\n",
    "# Extract hours, minutes, and seconds from the duration\n",
    "hours = duration.components.hours\n",
    "minutes = duration.components.minutes\n",
    "seconds = duration.components.seconds\n",
    "\n",
    "# Display the results\n",
    "# print(f\"Duration: {hours} hours, {minutes} minutes, {seconds} seconds\")"
   ]
  },
  {
   "cell_type": "markdown",
   "metadata": {},
   "source": [
    "5\\. Use the `.groupby()` method to find out the noisy channels, i.e. the TDC channels with most counts (print to screen the top 3 and the corresponding counts)"
   ]
  },
  {
   "cell_type": "code",
   "execution_count": 14,
   "metadata": {},
   "outputs": [
    {
     "name": "stdout",
     "output_type": "stream",
     "text": [
      "Top 3 Noisy Channels:\n",
      "     TDC_CHANNEL  count\n",
      "132          139   8320\n",
      "63            64   5027\n",
      "62            63   4917\n"
     ]
    }
   ],
   "source": [
    "\n",
    "# Group by 'TDC_CHANNEL' and count occurrences\n",
    "channel_counts = df.groupby('TDC_CHANNEL').size().reset_index(name='count')\n",
    "\n",
    "# Sort the channels by count in descending order\n",
    "channel_counts = channel_counts.sort_values(by='count', ascending=False)\n",
    "\n",
    "# Display the top 3 noisy channels and their counts\n",
    "top_noisy_channels = channel_counts.head(3)\n",
    "print(\"Top 3 Noisy Channels:\")\n",
    "print(top_noisy_channels)"
   ]
  },
  {
   "cell_type": "markdown",
   "metadata": {},
   "source": [
    "6\\. Count the number of non-empty orbits (i.e. the number of orbits with at least one hit)."
   ]
  },
  {
   "cell_type": "code",
   "execution_count": 15,
   "metadata": {},
   "outputs": [
    {
     "name": "stdout",
     "output_type": "stream",
     "text": [
      "Number of Non-Empty Orbits: 995\n"
     ]
    }
   ],
   "source": [
    "# Filter out rows with at least one hit\n",
    "non_empty_orbits = df[df['HEAD'] == 1]\n",
    "\n",
    "# Count the number of non-empty orbits\n",
    "num_non_empty_orbits = non_empty_orbits['ORBIT_CNT'].nunique()\n",
    "\n",
    "# Display the result\n",
    "print(\"Number of Non-Empty Orbits:\", num_non_empty_orbits)"
   ]
  },
  {
   "cell_type": "markdown",
   "metadata": {},
   "source": [
    "7\\. Count the number of unique orbits with at least one measurement from TDC_CHANNEL=139."
   ]
  },
  {
   "cell_type": "code",
   "execution_count": 16,
   "metadata": {},
   "outputs": [
    {
     "name": "stdout",
     "output_type": "stream",
     "text": [
      "Number of Unique Orbits with TDC_CHANNEL=139: 994\n"
     ]
    }
   ],
   "source": [
    "# Filter rows with TDC_CHANNEL=139 and HEAD=1\n",
    "tdc_139_rows = df[(df['TDC_CHANNEL'] == 139) & (df['HEAD'] == 1)]\n",
    "\n",
    "# Count the number of unique orbits\n",
    "num_unique_orbits_tdc_139 = tdc_139_rows['ORBIT_CNT'].nunique()\n",
    "\n",
    "# Display the result\n",
    "print(\"Number of Unique Orbits with TDC_CHANNEL=139:\", num_unique_orbits_tdc_139)"
   ]
  },
  {
   "cell_type": "markdown",
   "metadata": {},
   "source": [
    "8\\. Create two Series (one for each FPGA) that have the TDC channel as index, and the number of counts for the corresponding TDC channel as values."
   ]
  },
  {
   "cell_type": "code",
   "execution_count": 17,
   "metadata": {},
   "outputs": [
    {
     "name": "stdout",
     "output_type": "stream",
     "text": [
      "FPGA 1 Series:\n",
      "TDC_CHANNEL\n",
      "1     91\n",
      "2    109\n",
      "3    118\n",
      "4    148\n",
      "5    121\n",
      "Name: count, dtype: int64\n",
      "\n",
      "FPGA 2 Series:\n",
      "TDC_CHANNEL\n",
      "1    2116\n",
      "2    2444\n",
      "3    1670\n",
      "4    2014\n",
      "5    1151\n",
      "Name: count, dtype: int64\n"
     ]
    }
   ],
   "source": [
    "\n",
    "# Group by 'FPGA' and 'TDC_CHANNEL' and count occurrences\n",
    "channel_counts_by_fpga = df.groupby(['FPGA', 'TDC_CHANNEL']).size().reset_index(name='count')\n",
    "\n",
    "# Separate the counts for each FPGA into two Series\n",
    "fpga1_series = channel_counts_by_fpga[channel_counts_by_fpga['FPGA'] == 0].set_index('TDC_CHANNEL')['count']\n",
    "fpga2_series = channel_counts_by_fpga[channel_counts_by_fpga['FPGA'] == 1].set_index('TDC_CHANNEL')['count']\n",
    "\n",
    "# Display the resulting Series\n",
    "print(\"FPGA 1 Series:\")\n",
    "print(fpga1_series.head())\n",
    "\n",
    "print(\"\\nFPGA 2 Series:\")\n",
    "print(fpga2_series.head())"
   ]
  },
  {
   "cell_type": "markdown",
   "metadata": {},
   "source": [
    "9\\. **Optional:** Create two histograms (one for each FPGA) that show the number of counts for each TDC channel."
   ]
  },
  {
   "cell_type": "code",
   "execution_count": 20,
   "metadata": {},
   "outputs": [
    {
     "data": {
      "image/png": "[encoded data removed]",
      "text/plain": [
       "<Figure size 1200x600 with 2 Axes>"
      ]
     },
     "metadata": {},
     "output_type": "display_data"
    }
   ],
   "source": [
    "import matplotlib.pyplot as plt\n",
    "\n",
    "# Group by 'FPGA' and 'TDC_CHANNEL' and count occurrences\n",
    "channel_counts_by_fpga = df.groupby(['FPGA', 'TDC_CHANNEL']).size().reset_index(name='count')\n",
    "\n",
    "# Separate the counts for each FPGA into two Series\n",
    "fpga1_series = channel_counts_by_fpga[channel_counts_by_fpga['FPGA'] == 0].set_index('TDC_CHANNEL')['count']\n",
    "fpga2_series = channel_counts_by_fpga[channel_counts_by_fpga['FPGA'] == 1].set_index('TDC_CHANNEL')['count']\n",
    "\n",
    "# Plot histograms\n",
    "plt.figure(figsize=(12, 6))\n",
    "\n",
    "plt.subplot(1, 2, 1)\n",
    "plt.hist(fpga1_series, bins=20, color='blue', alpha=0.7)\n",
    "plt.title('Histogram for FPGA 1')\n",
    "plt.xlabel('Number of Counts')\n",
    "plt.ylabel('Frequency')\n",
    "\n",
    "plt.subplot(1, 2, 2)\n",
    "plt.hist(fpga2_series, bins=20, color='green', alpha=0.7)\n",
    "plt.title('Histogram for FPGA 2')\n",
    "plt.xlabel('Number of Counts')\n",
    "plt.ylabel('Frequency')\n",
    "\n",
    "plt.tight_layout()\n",
    "plt.show()"
   ]
  },
  {
   "cell_type": "code",
   "execution_count": null,
   "metadata": {},
   "outputs": [],
   "source": []
  }
 ],
 "metadata": {
  "kernelspec": {
   "display_name": "Python 3 (ipykernel)",
   "language": "python",
   "name": "python3"
  },
  "language_info": {
   "codemirror_mode": {
    "name": "ipython",
    "version": 3
   },
   "file_extension": ".py",
   "mimetype": "text/x-python",
   "name": "python",
   "nbconvert_exporter": "python",
   "pygments_lexer": "ipython3",
   "version": "3.12.0"
  }
 },
 "nbformat": 4,
 "nbformat_minor": 4
}
